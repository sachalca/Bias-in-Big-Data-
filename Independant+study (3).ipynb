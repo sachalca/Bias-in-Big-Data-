{
 "cells": [
  {
   "cell_type": "code",
   "execution_count": 1,
   "metadata": {
    "collapsed": true
   },
   "outputs": [],
   "source": [
    "import pyspark\n",
    "import re\n",
    "import numpy as np"
   ]
  },
  {
   "cell_type": "code",
   "execution_count": 2,
   "metadata": {},
   "outputs": [
    {
     "name": "stdout",
     "output_type": "stream",
     "text": [
      "env: JAVA_HOME=/usr/lib/jvm/java-8-openjdk-amd64\n"
     ]
    }
   ],
   "source": [
    "%env JAVA_HOME = /usr/lib/jvm/java-8-openjdk-amd64"
   ]
  },
  {
   "cell_type": "code",
   "execution_count": 3,
   "metadata": {
    "collapsed": true
   },
   "outputs": [],
   "source": [
    "sc = pyspark.SparkContext()"
   ]
  },
  {
   "cell_type": "code",
   "execution_count": 4,
   "metadata": {
    "collapsed": true
   },
   "outputs": [],
   "source": [
    "# Load sample data, which has 10,000 and 50,000 rows\n",
    "application = sc.textFile (\"application_data_sample.csv\")\n",
    "previous_application = sc.textFile (\"previous_application_sample.csv\")"
   ]
  },
  {
   "cell_type": "code",
   "execution_count": 5,
   "metadata": {
    "collapsed": true
   },
   "outputs": [],
   "source": [
    "# Rows are lists \n",
    "cleaned_application = application.flatMap(lambda x: [x.split(',')])\n",
    "cleaned_previous = previous_application.flatMap(lambda x: [x.split(',')])\n",
    "\n",
    "# Columns to keep \n",
    "application_keep = [0, 3, 4, 5, 7, 8, 9, 10, 13, 14, 17, 18, 25, 27, 116, 117, 118, 119]\n",
    "previous_keep = [1, 16]\n",
    "\n",
    "# Filter\n",
    "filtered_application = cleaned_application.map(lambda x: [x[i] for i in application_keep])\n",
    "filtered_previous = cleaned_previous.map(lambda x: [x[i] for i in previous_keep])\n",
    "\n",
    "# Key, values with key as ID \n",
    "kv_application = filtered_application.map(lambda x: (x[0], x[1:]))\n",
    "kv_previous = filtered_previous.map(lambda x: (x[0], x[1:]))"
   ]
  },
  {
   "cell_type": "code",
   "execution_count": 6,
   "metadata": {},
   "outputs": [
    {
     "data": {
      "text/plain": [
       "('SK_ID_CURR',\n",
       " ['CODE_GENDER',\n",
       "  'FLAG_OWN_CAR',\n",
       "  'FLAG_OWN_REALTY',\n",
       "  'AMT_INCOME_TOTAL',\n",
       "  'AMT_CREDIT',\n",
       "  'AMT_ANNUITY',\n",
       "  'AMT_GOODS_PRICE',\n",
       "  'NAME_EDUCATION_TYPE',\n",
       "  'NAME_FAMILY_STATUS',\n",
       "  'DAYS_BIRTH',\n",
       "  'DAYS_EMPLOYED',\n",
       "  'FLAG_CONT_MOBILE',\n",
       "  'FLAG_EMAIL',\n",
       "  'AMT_REQ_CREDIT_BUREAU_HOUR',\n",
       "  'AMT_REQ_CREDIT_BUREAU_DAY',\n",
       "  'AMT_REQ_CREDIT_BUREAU_WEEK',\n",
       "  'AMT_REQ_CREDIT_BUREAU_MON'])"
      ]
     },
     "execution_count": 6,
     "metadata": {},
     "output_type": "execute_result"
    }
   ],
   "source": [
    "# Kept columns in application: \n",
    "kv_application.first()"
   ]
  },
  {
   "cell_type": "code",
   "execution_count": 7,
   "metadata": {
    "scrolled": true
   },
   "outputs": [
    {
     "data": {
      "text/plain": [
       "('SK_ID_CURR', ['NAME_CONTRACT_STATUS'])"
      ]
     },
     "execution_count": 7,
     "metadata": {},
     "output_type": "execute_result"
    }
   ],
   "source": [
    "# Kept columns in previous: \n",
    "kv_previous.first()"
   ]
  },
  {
   "cell_type": "code",
   "execution_count": 8,
   "metadata": {
    "collapsed": true
   },
   "outputs": [],
   "source": [
    "# Join application and previous \n",
    "\n",
    "joined = kv_application.join(kv_previous)\n",
    "joined_no_index = joined.map(lambda x: (x[1][0] + x[1][1]))\n",
    "\n",
    "# Filter rows that do not have 'Approved' or 'Refused'\n",
    "filtered_decision = joined_no_index.filter(lambda x: (x[-1] == 'Approved' or x[-1] == 'Refused'))\n",
    "# Change approved/denied to binary 1/0 \n",
    "binary_decision = filtered_decision.map(lambda x: (x[:-1] + ['1'] if x[-1] == 'Approved' else x[:-1] + ['0']))"
   ]
  },
  {
   "cell_type": "code",
   "execution_count": 9,
   "metadata": {},
   "outputs": [
    {
     "data": {
      "text/plain": [
       "['F',\n",
       " 'N',\n",
       " 'N',\n",
       " '67500.0',\n",
       " '331920.0',\n",
       " '17077.5',\n",
       " '225000.0',\n",
       " 'Secondary / secondary special',\n",
       " 'Married',\n",
       " '-13280',\n",
       " '-280',\n",
       " '1',\n",
       " '0',\n",
       " '0.0',\n",
       " '0.0',\n",
       " '0.0',\n",
       " '0.0',\n",
       " '1']"
      ]
     },
     "execution_count": 9,
     "metadata": {},
     "output_type": "execute_result"
    }
   ],
   "source": [
    "binary_decision.first()"
   ]
  },
  {
   "cell_type": "code",
   "execution_count": 10,
   "metadata": {},
   "outputs": [
    {
     "data": {
      "image/png": "[encoded data removed]",
      "text/plain": [
       "<Figure size 720x432 with 1 Axes>"
      ]
     },
     "metadata": {
      "needs_background": "light"
     },
     "output_type": "display_data"
    }
   ],
   "source": [
    "import matplotlib.pyplot as plt\n",
    "\n",
    "incomes = binary_decision.map(lambda x: float(x[3])).collect()\n",
    "\n",
    "plt.figure(figsize=(10, 6))\n",
    "plt.hist(incomes, bins=30, edgecolor='black')\n",
    "plt.title('Income Distribution')\n",
    "plt.xlabel('Income')\n",
    "plt.ylabel('Frequency')\n",
    "plt.grid(True)\n",
    "plt.show()"
   ]
  },
  {
   "cell_type": "code",
   "execution_count": 11,
   "metadata": {
    "collapsed": true
   },
   "outputs": [],
   "source": [
    "'''\n",
    "To implement conditional demographic parity, add a column for income bracket.\n",
    "Above, I looked at the income distribution to decide on buckets to use. \n",
    "1 = 0-100k\n",
    "2 = 100-200k\n",
    "3 = 200k \n",
    "'''\n",
    "\n",
    "def income_cat(x):\n",
    "    if float(x[3]) < 100000: \n",
    "        return list(x) + ['1']\n",
    "    elif float(x[3]) < 200000: \n",
    "        return list(x) + ['2']\n",
    "    else: \n",
    "        return list(x) + ['3']\n",
    "\n",
    "# Add the category in the last column \n",
    "income_category = binary_decision.map(lambda x: income_cat(x))"
   ]
  },
  {
   "cell_type": "code",
   "execution_count": 12,
   "metadata": {
    "collapsed": true
   },
   "outputs": [],
   "source": [
    "# Safe division \n",
    "def safe_div(n, d):\n",
    "    return float(n) / float(d) if float(d) != 0 else 0\n",
    "\n",
    "def bias_analysis(bias_index, inputRDD):    \n",
    "\n",
    "    # Number of accepted loans per potential bias  \n",
    "    bias_key = inputRDD.map(lambda x: (x[bias_index], int(x[17])))\n",
    "    bias_accepted = bias_key.reduceByKey(lambda x, y: int(x) + int(y))\n",
    "\n",
    "    # Total loans request per potential bias   \n",
    "    bias_total_key = inputRDD.map(lambda x: (x[bias_index], 1))\n",
    "    bias_total = bias_total_key.reduceByKey(lambda x, y: x + y)\n",
    "\n",
    "    # Insert in python list. Shape is [(cat, value), ...]\n",
    "    bias_accepted_list = bias_accepted.collect()\n",
    "    bias_total_list = bias_total.collect()\n",
    "\n",
    "    # Total number of accepted applicants \n",
    "    total_accepted = 0\n",
    "    for _, value in bias_accepted_list:\n",
    "        total_accepted += value\n",
    "    \n",
    "    # Approval Rates. Shape is [(cat, value), ...]\n",
    "    AR = [(accepted_tup[0], safe_div(accepted_tup[1], total_tup[1])) \n",
    "          for accepted_tup, total_tup \n",
    "          in zip(bias_accepted_list, bias_total_list)]\n",
    "    \n",
    "\n",
    "    # Demographic Parity Difference & Disparate Impact Ratio \n",
    "    # extract just the approval rates per category\n",
    "    rates = [ rate for (_, rate) in AR ]\n",
    "    if rates:\n",
    "        DPD = max(rates) - min(rates)\n",
    "        DIR = safe_div(min(rates), max(rates))\n",
    "    else:\n",
    "        DPD = 0\n",
    "        DIR = None\n",
    "\n",
    "    # Balance for Positive Class\n",
    "    # proportions of total accepted for each category\n",
    "    total_acceptance = [safe_div(val, total_accepted)\n",
    "                         for (_, val) in bias_accepted_list]\n",
    "    if total_acceptance:\n",
    "        BPC = max(total_acceptance) - min(total_acceptance)\n",
    "    else:\n",
    "        BPC = 0\n",
    "\n",
    "            \n",
    "    # Number of accepted loans per bias and income\n",
    "    bias_income_key = inputRDD.map(lambda x: ((x[bias_index], x[18]), x[17]))\n",
    "    bias_income_accepted = bias_income_key.reduceByKey(lambda x, y: int(x) + int(y))\n",
    "\n",
    "    # Total number of accepted loans per bias and income\n",
    "    bias_income_total_key = inputRDD.map(lambda x: ((x[bias_index], x[18]), 1))\n",
    "    bias_income_total = bias_income_total_key.reduceByKey(lambda x, y: x + y)\n",
    "\n",
    "    # Insert in python list \n",
    "    bias_income_accepted_list = bias_income_accepted.collect()\n",
    "    bias_income_total_list = bias_income_total.collect()\n",
    "\n",
    "    # Approval rate for different income brackets \n",
    "    AR_low = [(accepted_tup[0], safe_div(accepted_tup[1], total_tup[1])) \n",
    "              for accepted_tup, total_tup\n",
    "              in zip(bias_income_accepted_list, bias_income_total_list)\n",
    "              if accepted_tup[0] == total_tup[0] and accepted_tup[0][1] == '1']\n",
    "    \n",
    "    AR_mid = [(accepted_tup[0], safe_div(accepted_tup[1], total_tup[1])) \n",
    "              for accepted_tup, total_tup\n",
    "              in zip(bias_income_accepted_list, bias_income_total_list)\n",
    "              if accepted_tup[0] == total_tup[0] and accepted_tup[0][1] == '2']\n",
    "    \n",
    "    AR_high = [(accepted_tup[0], safe_div(accepted_tup[1], total_tup[1])) \n",
    "              for accepted_tup, total_tup\n",
    "              in zip(bias_income_accepted_list, bias_income_total_list)\n",
    "              if accepted_tup[0] == total_tup[0] and accepted_tup[0][1] == '3']\n",
    "    \n",
    "    # List of lists of approval rates for bias and income \n",
    "    AR_list = [AR_low, AR_mid, AR_high]\n",
    "    \n",
    "    # Conditional demographic parity\n",
    "    CDP_list = []\n",
    "    \n",
    "    for AR_group in AR_list:\n",
    "        \n",
    "        # Find CDP for each bracket \n",
    "        rates = [ rate for (_, rate) in AR_group ] \n",
    "        \n",
    "        # If null, 0\n",
    "        if not rates:\n",
    "            CDP_list.append(0)\n",
    "        else:\n",
    "            CDP_list.append(max(rates) - min(rates))\n",
    "\n",
    "    # Find size of each group \n",
    "    group_low = sum(value for (cat, value) in bias_income_total_list if cat[1] == '1')\n",
    "    group_mid = sum(value for (cat, value) in bias_income_total_list if cat[1] == '2')\n",
    "    group_high= sum(value for (cat, value) in bias_income_total_list if cat[1] == '3')\n",
    "\n",
    "    group_list = [group_low, group_mid, group_high]\n",
    "    total_size = sum(group_list)\n",
    "\n",
    "    # Explained Disparity \n",
    "    ED = 0\n",
    "    for cdp, size in zip(CDP_list, group_list):\n",
    "        ED += cdp * size / total_size\n",
    "\n",
    "    # Unexplained Disparity \n",
    "    UD = DPD - ED \n",
    "    \n",
    "    return AR, DPD, DIR, BPC, UD"
   ]
  },
  {
   "cell_type": "markdown",
   "metadata": {},
   "source": [
    "# **Analysis for small dataset**"
   ]
  },
  {
   "cell_type": "markdown",
   "metadata": {},
   "source": [
    "# **Gender Analysis**"
   ]
  },
  {
   "cell_type": "code",
   "execution_count": 27,
   "metadata": {
    "collapsed": true
   },
   "outputs": [],
   "source": [
    "gender_input = income_category.filter(lambda x: x[0] in ['F', 'M'])"
   ]
  },
  {
   "cell_type": "code",
   "execution_count": 28,
   "metadata": {},
   "outputs": [
    {
     "name": "stdout",
     "output_type": "stream",
     "text": [
      "Gender values:\n",
      "  Approval rate: [('F', 0.7863013698630137), ('M', 0.813953488372093)]\n",
      "  Demographic Parity Difference: 0.027652118509079338\n",
      "  Disparate Impact Ratio: 0.966027397260274\n",
      "  Balance for Positive Class: 0.3442622950819672\n",
      "  Unexplained disparity: -0.008082788042391584\n"
     ]
    }
   ],
   "source": [
    "AR, DPD, DIR, BPC, UD = bias_analysis(0, gender_input)   \n",
    "print(f'Gender values:\\n\\\n",
    "  Approval rate: {AR}\\n\\\n",
    "  Demographic Parity Difference: {DPD}\\n\\\n",
    "  Disparate Impact Ratio: {DIR}\\n\\\n",
    "  Balance for Positive Class: {BPC}\\n\\\n",
    "  Unexplained disparity: {UD}')"
   ]
  },
  {
   "cell_type": "markdown",
   "metadata": {},
   "source": [
    "# **Family Status Analysis**"
   ]
  },
  {
   "cell_type": "code",
   "execution_count": 29,
   "metadata": {
    "collapsed": true
   },
   "outputs": [],
   "source": [
    "def clean_marriage(x):\n",
    "    new = list(x)\n",
    "    try:\n",
    "        if x[8] in ['Married', 'Civil marriage']:\n",
    "            new[8] = 'Married'\n",
    "        elif x[8] in ['Single / not married', 'Separated', 'Widow']:\n",
    "            new[8] = 'Single'\n",
    "        else:\n",
    "            return None  \n",
    "        return new\n",
    "    except:\n",
    "        return None\n",
    "\n",
    "marriage_input = income_category.map(lambda x: clean_marriage(x)).filter(lambda x: x is not None)\n"
   ]
  },
  {
   "cell_type": "code",
   "execution_count": 30,
   "metadata": {},
   "outputs": [
    {
     "name": "stdout",
     "output_type": "stream",
     "text": [
      "Family status values:\n",
      "  Approval rates: [('Married', 0.7981770833333334), ('Single', 0.7870036101083032)]\n",
      "  Demographic Parity Difference: 0.01117347322503015\n",
      "  Disparate Impact Ratio: 0.9860012602988203\n",
      "  Balance for Positive Class: 0.4753309265944645\n",
      "  Unexplained disparity: -0.02996602487178382\n"
     ]
    }
   ],
   "source": [
    "AR, DPD, DIR, BPC, UD = bias_analysis(8, marriage_input)   \n",
    "print(f'Family status values:\\n\\\n",
    "  Approval rates: {AR}\\n\\\n",
    "  Demographic Parity Difference: {DPD}\\n\\\n",
    "  Disparate Impact Ratio: {DIR}\\n\\\n",
    "  Balance for Positive Class: {BPC}\\n\\\n",
    "  Unexplained disparity: {UD}')"
   ]
  },
  {
   "cell_type": "markdown",
   "metadata": {
    "collapsed": true
   },
   "source": [
    "# **Education Type Analysis**"
   ]
  },
  {
   "cell_type": "code",
   "execution_count": 31,
   "metadata": {
    "collapsed": true
   },
   "outputs": [],
   "source": [
    "def clean_education(x):\n",
    "    new = list(x)\n",
    "    try:\n",
    "        if x[7] in ['Higher education', 'Academic degree']:\n",
    "            new[7] = 'Higher Education'\n",
    "        elif x[7] in ['Secondary / secondary special', 'Lower secondary', 'Incomplete higher', 'Commercial associate']:\n",
    "            new[7] = 'Lower Education'\n",
    "        else:\n",
    "            return None \n",
    "        return new\n",
    "    except:\n",
    "        return None\n",
    "\n",
    "education_input = income_category.map(lambda x: clean_education(x)).filter(lambda x: x is not None)\n"
   ]
  },
  {
   "cell_type": "code",
   "execution_count": 32,
   "metadata": {},
   "outputs": [
    {
     "name": "stdout",
     "output_type": "stream",
     "text": [
      "Education type values:\n",
      "  Approval rates: [('Lower Education', 0.8017456359102244), ('Higher Education', 0.7701612903225806)]\n",
      "  Demographic Parity Difference: 0.03158434558764378\n",
      "  Disparate Impact Ratio: 0.9606055285205438\n",
      "  Balance for Positive Class: 0.5419664268585132\n",
      "  Unexplained disparity: -0.030408218829403616\n"
     ]
    }
   ],
   "source": [
    "AR, DPD, DIR, BPC, UD = bias_analysis(7, education_input)   \n",
    "print(f'Education type values:\\n\\\n",
    "  Approval rates: {AR}\\n\\\n",
    "  Demographic Parity Difference: {DPD}\\n\\\n",
    "  Disparate Impact Ratio: {DIR}\\n\\\n",
    "  Balance for Positive Class: {BPC}\\n\\\n",
    "  Unexplained disparity: {UD}')"
   ]
  },
  {
   "cell_type": "markdown",
   "metadata": {},
   "source": [
    "# **Car Ownership Analysis**"
   ]
  },
  {
   "cell_type": "code",
   "execution_count": 33,
   "metadata": {
    "collapsed": true
   },
   "outputs": [],
   "source": [
    "car_input = income_category.filter(lambda x: x[1] in ['Y', 'N'])"
   ]
  },
  {
   "cell_type": "code",
   "execution_count": 34,
   "metadata": {},
   "outputs": [
    {
     "name": "stdout",
     "output_type": "stream",
     "text": [
      "Car Ownership values:\n",
      "  Approval rates: [('N', 0.7739130434782608), ('Y', 0.8333333333333334)]\n",
      "  Demographic Parity Difference: 0.05942028985507253\n",
      "  Disparate Impact Ratio: 0.9286956521739129\n",
      "  Balance for Positive Class: 0.2505854800936768\n",
      "  Unexplained disparity: -0.005725652730549896\n"
     ]
    }
   ],
   "source": [
    "AR, DPD, DIR, BPC, UD = bias_analysis(1, car_input)   \n",
    "print(f'Car Ownership values:\\n\\\n",
    "  Approval rates: {AR}\\n\\\n",
    "  Demographic Parity Difference: {DPD}\\n\\\n",
    "  Disparate Impact Ratio: {DIR}\\n\\\n",
    "  Balance for Positive Class: {BPC}\\n\\\n",
    "  Unexplained disparity: {UD}')"
   ]
  },
  {
   "cell_type": "markdown",
   "metadata": {},
   "source": [
    "# **Technology Analysis**"
   ]
  },
  {
   "cell_type": "code",
   "execution_count": 37,
   "metadata": {
    "collapsed": true
   },
   "outputs": [],
   "source": [
    "phone_input = income_category.filter(lambda x: x[11] in ['0', '1'])"
   ]
  },
  {
   "cell_type": "code",
   "execution_count": 38,
   "metadata": {},
   "outputs": [
    {
     "name": "stdout",
     "output_type": "stream",
     "text": [
      "Technology availibility values:\n",
      "  Approval rates: \n",
      "    Could be contacted by phone: 0.7956273764258555\n",
      "    Could not be contacted by phone: 0.7727272727272727\n",
      "  Demographic Parity Difference: 0.022900103698582752\n",
      "  Disparate Impact Ratio: 0.9712175518627132\n",
      "  Balance for Positive Class: 0.9601873536299765\n",
      "  Unexplained disparity: -0.11433140803620859\n"
     ]
    }
   ],
   "source": [
    "AR, DPD, DIR, BPC, UD = bias_analysis(11, phone_input)   \n",
    "print(f'Technology availibility values:\\n\\\n",
    "  Approval rates: \\n\\\n",
    "    Could be contacted by phone: {AR[0][1]}\\n\\\n",
    "    Could not be contacted by phone: {AR[1][1]}\\n\\\n",
    "  Demographic Parity Difference: {DPD}\\n\\\n",
    "  Disparate Impact Ratio: {DIR}\\n\\\n",
    "  Balance for Positive Class: {BPC}\\n\\\n",
    "  Unexplained disparity: {UD}')"
   ]
  },
  {
   "cell_type": "markdown",
   "metadata": {},
   "source": [
    "# **Age Analysis**"
   ]
  },
  {
   "cell_type": "code",
   "execution_count": 39,
   "metadata": {
    "collapsed": true
   },
   "outputs": [],
   "source": [
    "# Modify age to have a range \n",
    "\n",
    "def age(x):\n",
    "    new = list(x)\n",
    "    \n",
    "    if abs(float(x[9])) < 30 * 365: \n",
    "        new[9] = '< 30'\n",
    "    else: \n",
    "        new[9] = '> 30'\n",
    "\n",
    "    return new\n",
    "\n",
    "# Add the category in the last column \n",
    "age_input = income_category.map(lambda x: age(x))"
   ]
  },
  {
   "cell_type": "code",
   "execution_count": 40,
   "metadata": {},
   "outputs": [
    {
     "name": "stdout",
     "output_type": "stream",
     "text": [
      "Age values:\n",
      "  Approval rates: [('< 30', 0.7823529411764706), ('> 30', 0.797566371681416)]\n",
      "  Demographic Parity Difference: 0.015213430504945391\n",
      "  Disparate Impact Ratio: 0.9809251856082238\n",
      "  Balance for Positive Class: 0.6885245901639345\n",
      "  Unexplained disparity: -0.016745516682815174\n"
     ]
    }
   ],
   "source": [
    "AR, DPD, DIR, BPC, UD = bias_analysis(9, age_input)   \n",
    "print(f'Age values:\\n\\\n",
    "  Approval rates: {AR}\\n\\\n",
    "  Demographic Parity Difference: {DPD}\\n\\\n",
    "  Disparate Impact Ratio: {DIR}\\n\\\n",
    "  Balance for Positive Class: {BPC}\\n\\\n",
    "  Unexplained disparity: {UD}')"
   ]
  },
  {
   "cell_type": "markdown",
   "metadata": {
    "collapsed": true
   },
   "source": [
    "Outputs of running with the large dataset with AWS \n",
    "\n",
    "Gender values:                                                                                                                                                                                                \n",
    "  Approval rate: [('M', 0.7779490407718839), ('F', 0.7857100333189351)]                                                                                                                                       \n",
    "  Demographic Parity Difference: 0.007760992547051204                                                                                                                                                         \n",
    "  Disparate Impact Ratio: 0.9901223196625505                                                                                                                                                                  \n",
    "  Balance for Positive Class: 0.3512108915970755                                                                                                                                                              \n",
    "  Unexplained disparity: 0.005332553792893554   \n",
    "  \n",
    "  \n",
    "Family status values:                                                                                                                                                                                         \n",
    "  Approval rates: [('Married', 0.7848993866807843), ('Single', 0.7734882421034349)]                                                                                                                           \n",
    "  Demographic Parity Difference: 0.011411144577349375                                                                                                                                                         \n",
    "  Disparate Impact Ratio: 0.9854616467142301                                                                                                                                                                  \n",
    "  Balance for Positive Class: 0.4826726324237087                                                                                                                                                              \n",
    "  Unexplained disparity: 0.005182456759545815     \n",
    "  \n",
    "  \n",
    "Education type values:                                                                                                                                                                                        \n",
    "  Approval rates: [('Higher Education', 0.7820345024074464), ('Lower Education', 0.7821630177013015)]                                                                                                         \n",
    "  Demographic Parity Difference: 0.00012851529385504712                                                                                                                                                       \n",
    "  Disparate Impact Ratio: 0.9998356924439706                                                                                                                                                                  \n",
    "  Balance for Positive Class: 0.5592575303971015                                                                                                                                                              \n",
    "  Unexplained disparity: -0.007611379471703185     \n",
    "  \n",
    "  \n",
    "Car Ownership values:                                                                                                                                                                                         \n",
    "  Approval rates: [('N', 0.7849523421731861), ('Y', 0.7797102054315118)]                                                                                                                                      \n",
    "  Demographic Parity Difference: 0.005242136741674286                                                                                                                                                         \n",
    "  Disparate Impact Ratio: 0.9933217133575765                                                                                                                                                                  \n",
    "  Balance for Positive Class: 0.3201410328454781                                                                                                                                                              \n",
    "  Unexplained disparity: 0.0031091345450214867       \n",
    "  \n",
    "  \n",
    "  \n",
    "Technology availibility values:                                                                                                                                                                               \n",
    "  Approval rates:                                                                                                                                                                                             \n",
    "    Could be contacted by phone: 0.7820873218421496                                                                                                                                                           \n",
    "    Could not be contacted by phone: 0.8202637331418335                                                                                                                                                       \n",
    "  Demographic Parity Difference: 0.038176411299683966                                                                                                                                                         \n",
    "  Disparate Impact Ratio: 0.9534583698422726                                                                                                                                                                  \n",
    "  Balance for Positive Class: 0.9408782068765067                                                                                                                                                              \n",
    "  Unexplained disparity: 0.0015518830415907903       \n",
    "  \n",
    "  \n",
    "  \n",
    "Age values:                                                                                                                                                                                                   \n",
    "  Approval rates: [('< 30', 0.7699793021590496), ('> 30', 0.7856585806345688)]                                                                                                                                \n",
    "  Demographic Parity Difference: 0.0156792784755192                                                                                                                                                           \n",
    "  Disparate Impact Ratio: 0.9800431397785343                                                                                                                                                                  \n",
    "  Balance for Positive Class: 0.687480608239369                                                                                                                                                               \n",
    "  Unexplained disparity: -0.0009604097937733619        "
   ]
  },
  {
   "cell_type": "code",
   "execution_count": 1,
   "metadata": {},
   "outputs": [
    {
     "data": {
      "image/png": "[encoded data removed]",
      "text/plain": [
       "<Figure size 432x288 with 1 Axes>"
      ]
     },
     "metadata": {
      "needs_background": "light"
     },
     "output_type": "display_data"
    },
    {
     "data": {
      "image/png": "[encoded data removed]",
      "text/plain": [
       "<Figure size 432x288 with 1 Axes>"
      ]
     },
     "metadata": {
      "needs_background": "light"
     },
     "output_type": "display_data"
    },
    {
     "data": {
      "image/png": "[encoded data removed]",
      "text/plain": [
       "<Figure size 432x288 with 1 Axes>"
      ]
     },
     "metadata": {
      "needs_background": "light"
     },
     "output_type": "display_data"
    },
    {
     "data": {
      "image/png": "[encoded data removed]",
      "text/plain": [
       "<Figure size 432x288 with 1 Axes>"
      ]
     },
     "metadata": {
      "needs_background": "light"
     },
     "output_type": "display_data"
    },
    {
     "data": {
      "image/png": "[encoded data removed]",
      "text/plain": [
       "<Figure size 432x288 with 1 Axes>"
      ]
     },
     "metadata": {
      "needs_background": "light"
     },
     "output_type": "display_data"
    },
    {
     "data": {
      "image/png": "[encoded data removed]",
      "text/plain": [
       "<Figure size 432x288 with 1 Axes>"
      ]
     },
     "metadata": {
      "needs_background": "light"
     },
     "output_type": "display_data"
    },
    {
     "data": {
      "image/png": "[encoded data removed]",
      "text/plain": [
       "<Figure size 432x288 with 1 Axes>"
      ]
     },
     "metadata": {
      "needs_background": "light"
     },
     "output_type": "display_data"
    },
    {
     "data": {
      "image/png": "[encoded data removed]",
      "text/plain": [
       "<Figure size 432x288 with 1 Axes>"
      ]
     },
     "metadata": {
      "needs_background": "light"
     },
     "output_type": "display_data"
    },
    {
     "data": {
      "image/png": "[encoded data removed]",
      "text/plain": [
       "<Figure size 432x288 with 1 Axes>"
      ]
     },
     "metadata": {
      "needs_background": "light"
     },
     "output_type": "display_data"
    },
    {
     "data": {
      "image/png": "[encoded data removed]",
      "text/plain": [
       "<Figure size 432x288 with 1 Axes>"
      ]
     },
     "metadata": {
      "needs_background": "light"
     },
     "output_type": "display_data"
    }
   ],
   "source": [
    "import matplotlib.pyplot as plt\n",
    "\n",
    "# Labels for each attribute group\n",
    "attributes = ['Gender', 'Family', 'Education', 'Car', 'Phone', 'Age']\n",
    "\n",
    "# Provided data\n",
    "AR_list = [\n",
    "    [('M', 0.7779), ('F', 0.7857)],\n",
    "    [('Married', 0.7849), ('Single', 0.7735)],\n",
    "    [('Higher Education', 0.7820), ('Lower Education', 0.7822)],\n",
    "    [('N', 0.785), ('Y', 0.7797)],\n",
    "    [('No Contact', 0.7821), ('Contact', 0.8203)],\n",
    "    [('< 30', 0.77), ('> 30', 0.7857)]\n",
    "]\n",
    "DPI_list = [0.0078, 0.0114, 0.0001, 0.00524, 0.0382, 0.0157]\n",
    "DIR_list = [0.9901, 0.9855, 0.9998, 0.9933, 0.9535, 0.9800]\n",
    "BPC_list = [0.3512, 0.4827, 0.5593, 0.3201, 0.9409, 0.6875]\n",
    "UD_list = [0.0053, 0.0052, -0.0076, 0.0031, 0.0016, -0.001]\n",
    "\n",
    "# Plot Approval Rates for each attribute\n",
    "for i, (attr, group_rates) in enumerate(zip(attributes, AR_list)):\n",
    "    groups, rates = zip(*group_rates)\n",
    "    plt.figure()\n",
    "    plt.bar(groups, rates, color='steelblue')\n",
    "    plt.title(f'Approval Rates by {attr}')\n",
    "    plt.ylabel('Approval Rate')\n",
    "    plt.ylim(0, 1)\n",
    "    plt.grid(axis='y')\n",
    "\n",
    "# Plot DPI\n",
    "plt.figure()\n",
    "plt.bar(attributes, DPI_list, color='coral')\n",
    "plt.title('Demographic Parity Difference (DPD)')\n",
    "plt.ylabel('DPD')\n",
    "plt.grid(axis='y')\n",
    "\n",
    "# Plot DIR\n",
    "plt.figure()\n",
    "plt.bar(attributes, DIR_list, color='mediumseagreen')\n",
    "plt.title('Disparate Impact Ratio (DIR)')\n",
    "plt.ylabel('DIR')\n",
    "plt.grid(axis='y')\n",
    "\n",
    "# Plot BPC\n",
    "plt.figure()\n",
    "plt.bar(attributes, BPC_list, color='mediumpurple')\n",
    "plt.title('Balance for Positive Class (BPC)')\n",
    "plt.ylabel('BPC')\n",
    "plt.grid(axis='y')\n",
    "\n",
    "# Plot UD\n",
    "plt.figure()\n",
    "plt.bar(attributes, UD_list, color='darkorange')\n",
    "plt.title('Unexplained Disparity (UD)')\n",
    "plt.ylabel('UD')\n",
    "plt.grid(axis='y')\n",
    "\n",
    "plt.tight_layout()\n",
    "plt.show()\n"
   ]
  },
  {
   "cell_type": "code",
   "execution_count": null,
   "metadata": {
    "collapsed": true
   },
   "outputs": [],
   "source": []
  }
 ],
 "metadata": {
  "kernelspec": {
   "display_name": "Python 3 [3.7]",
   "language": "python",
   "name": "python3"
  },
  "language_info": {
   "codemirror_mode": {
    "name": "ipython",
    "version": 3
   },
   "file_extension": ".py",
   "mimetype": "text/x-python",
   "name": "python",
   "nbconvert_exporter": "python",
   "pygments_lexer": "ipython3",
   "version": "3.7.5"
  }
 },
 "nbformat": 4,
 "nbformat_minor": 5
}
