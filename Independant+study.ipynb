{
 "cells": [
  {
   "cell_type": "code",
   "execution_count": 2,
   "id": "b10a9c00",
   "metadata": {},
   "outputs": [],
   "source": [
    "import pandas as pd\n",
    "import random\n",
    "import pyspark\n",
    "import re\n",
    "import numpy as np"
   ]
  },
  {
   "cell_type": "code",
   "execution_count": 3,
   "id": "5a80196a",
   "metadata": {},
   "outputs": [
    {
     "name": "stdout",
     "output_type": "stream",
     "text": [
      "env: JAVA_HOME=/usr/lib/jvm/java-8-openjdk-amd64\n"
     ]
    }
   ],
   "source": [
    "%env JAVA_HOME = /usr/lib/jvm/java-8-openjdk-amd64"
   ]
  },
  {
   "cell_type": "code",
   "execution_count": null,
   "id": "544ad76c",
   "metadata": {},
   "outputs": [],
   "source": [
    "sc = pyspark.SparkContext()"
   ]
  },
  {
   "cell_type": "code",
   "execution_count": null,
   "id": "054d76d3",
   "metadata": {},
   "outputs": [],
   "source": [
    "# Load sample data, which has 10,000 and 50,000 rows\n",
    "application = sc.textFile (\"application_data_sample.csv\")\n",
    "previous_application = sc.textFile (\"previous_application_sample.csv\")"
   ]
  },
  {
   "cell_type": "code",
   "execution_count": null,
   "id": "53801a48",
   "metadata": {},
   "outputs": [],
   "source": [
    "# Rows are lists \n",
    "cleaned_application = application.flatMap(lambda x: [x.split(',')])\n",
    "cleaned_previous = previous_application.flatMap(lambda x: [x.split(',')])\n",
    "\n",
    "# Columns to keep \n",
    "application_keep = [0, 3, 4, 5, 7, 8, 9, 10, 13, 14, 17, 18, 25, 27, 116, 117, 118, 119]\n",
    "previous_keep = [1, 16]\n",
    "\n",
    "# Filter\n",
    "filtered_application = cleaned_application.map(lambda x: [x[i] for i in application_keep])\n",
    "filtered_previous = cleaned_previous.map(lambda x: [x[i] for i in previous_keep])\n",
    "\n",
    "# Key, values with key as ID \n",
    "kv_application = filtered_application.map(lambda x: (x[0], x[1:]))\n",
    "kv_previous = filtered_previous.map(lambda x: (x[0], x[1:]))"
   ]
  },
  {
   "cell_type": "code",
   "execution_count": null,
   "id": "6c1dba9a",
   "metadata": {},
   "outputs": [],
   "source": [
    "# Kept columns in application: \n",
    "kv_application.first()"
   ]
  },
  {
   "cell_type": "code",
   "execution_count": null,
   "id": "df5e97e0",
   "metadata": {
    "scrolled": true
   },
   "outputs": [],
   "source": [
    "# Kept columns in previous: \n",
    "kv_previous.first()"
   ]
  },
  {
   "cell_type": "code",
   "execution_count": null,
   "id": "f99cfe39",
   "metadata": {},
   "outputs": [],
   "source": [
    "# Join application and previous \n",
    "\n",
    "joined = kv_application.join(kv_previous)\n",
    "joined_no_index = joined.map(lambda x: (x[1][0] + x[1][1]))\n",
    "\n",
    "# Filter rows that do not have 'Approved' or 'Refused'\n",
    "filtered_decision = joined_no_index.filter(lambda x: (x[-1] == 'Approved' or x[-1] == 'Refused'))\n",
    "# Change approved/denied to binary 1/0 \n",
    "binary_decision = filtered_decision.map(lambda x: (x[:-1] + ['1'] if x[-1] == 'Approved' else x[:-1] + ['0']))"
   ]
  },
  {
   "cell_type": "code",
   "execution_count": null,
   "id": "a1189b28",
   "metadata": {},
   "outputs": [],
   "source": [
    "binary_decision.first()"
   ]
  },
  {
   "cell_type": "code",
   "execution_count": null,
   "id": "0e903783",
   "metadata": {},
   "outputs": [],
   "source": [
    "'''\n",
    "Categories to check bias for: \n",
    "- Genre \n",
    "- Ownership \n",
    "- Education type\n",
    "- Family status \n",
    "- Age \n",
    "- Technology \n",
    "'''"
   ]
  },
  {
   "cell_type": "code",
   "execution_count": null,
   "id": "cbc3a8c4",
   "metadata": {},
   "outputs": [],
   "source": [
    "import matplotlib.pyplot as plt\n",
    "\n",
    "incomes = binary_decision.map(lambda x: float(x[3])).collect()\n",
    "\n",
    "plt.figure(figsize=(10, 6))\n",
    "plt.hist(incomes, bins=30, edgecolor='black')\n",
    "plt.title('Income Distribution')\n",
    "plt.xlabel('Income')\n",
    "plt.ylabel('Frequency')\n",
    "plt.grid(True)\n",
    "plt.show()"
   ]
  },
  {
   "cell_type": "code",
   "execution_count": null,
   "id": "38350fb2",
   "metadata": {},
   "outputs": [],
   "source": [
    "'''\n",
    "To implement conditional demographic parity, add a column for income bracket.\n",
    "Above, I looked at the income distribution to decide on buckets to use. \n",
    "1 = 0-100k\n",
    "2 = 100-200k\n",
    "3 = 200k \n",
    "'''\n",
    "\n",
    "def income_cat(x):\n",
    "    if float(x[3]) < 100000: \n",
    "        return list(x) + ['1']\n",
    "    elif float(x[3]) < 200000: \n",
    "        return list(x) + ['2']\n",
    "    else: \n",
    "        return list(x) + ['3']\n",
    "\n",
    "# Added the category in the last column \n",
    "income_category = binary_decision.map(lambda x: income_cat(x))"
   ]
  },
  {
   "cell_type": "code",
   "execution_count": null,
   "id": "6ef92f0b-33c7-45a6-bc7c-2f6b2b7afbb6",
   "metadata": {},
   "outputs": [],
   "source": [
    "income_cat.first()"
   ]
  },
  {
   "cell_type": "code",
   "execution_count": null,
   "id": "9a38d990",
   "metadata": {},
   "outputs": [],
   "source": [
    "# Gender analysis\n",
    "\n",
    "# Safe division \n",
    "def safe_div(n, d):\n",
    "    return n / d if d != 0 else 0\n",
    "\n",
    "# Number of accepted loans per gender \n",
    "gender_key = income_category.map(lambda x: (x[0], x[-2]))\n",
    "gender_accepted = gender_key.reduceByKey(lambda x, y: int(x) + int(y))\n",
    "\n",
    "# Total loans request per gender \n",
    "gender_total_key = income_category.map(lambda x: (x[0], 1))\n",
    "gender_total = gender_total_key.reduceByKey(lambda x, y: x + y)\n",
    "\n",
    "# Insert in python list \n",
    "gender_accepted_list = gender_accepted.take(2)\n",
    "gender_total_list = gender_total.take(2)\n",
    "\n",
    "# Initialize variables \n",
    "accepted_men = 0\n",
    "total_men = 0\n",
    "accepted_women = 0\n",
    "total_women = 0\n",
    "\n",
    "for gender, number in gender_accepted_list:\n",
    "    if gender == 'F':\n",
    "        accepted_women = number\n",
    "    elif gender == 'M': \n",
    "        accepted_men = number\n",
    "        \n",
    "for gender, number in gender_total_list:\n",
    "    if gender == 'F':\n",
    "        total_women = number\n",
    "    elif gender == 'M': \n",
    "        total_men = number\n",
    "        \n",
    "total_accepted = accepted_women + accepted_men\n",
    "\n",
    "# Women and men approval rates \n",
    "women_AR = safe_div(accepted_women, total_women)\n",
    "men_AR = safe_div(accepted_men, total_men)\n",
    "\n",
    "# Demographic party difference \n",
    "DPD = abs(women_AR - men_AR)\n",
    "\n",
    "# Disparate Impact Ratio \n",
    "DIR = abs(women_AR / men_AR)\n",
    "\n",
    "# Balance for positive class \n",
    "accepted_women_ratio = accepted_women / total_accepted\n",
    "accepted_men_ratio = accepted_men / total_accepted\n",
    "BPC = abs(accepted_women_ratio - accepted_men_ratio)\n",
    "\n",
    "# Number of accepted loans per gender and income\n",
    "gender_income_key = income_category.map(lambda x: ((x[0], x[-1]), x[-2]))\n",
    "gender_income_accepted = gender_income_key.reduceByKey(lambda x, y: int(x) + int(y))\n",
    "\n",
    "# Total number of accepted loans per gender and income\n",
    "gender_income_total_key = income_category.map(lambda x: ((x[0], x[-1]), 1))\n",
    "gender_income_total = gender_income_total_key.reduceByKey(lambda x, y: x + y)\n",
    "\n",
    "# Insert in python list \n",
    "gender_income_accepted_list = gender_income_total_key.collect()\n",
    "gender_income_total_list = gender_income_total.collect()\n",
    "\n",
    "# Initialize variables \n",
    "accepted_men_low = 0\n",
    "total_men_low = 0\n",
    "\n",
    "accepted_men_mid = 0\n",
    "total_men_mid = 0\n",
    "\n",
    "accepted_men_high = 0\n",
    "total_men_high = 0\n",
    "\n",
    "accepted_women_low = 0\n",
    "total_women_low = 0\n",
    "\n",
    "accepted_women_mid = 0\n",
    "total_women_mid = 0\n",
    "\n",
    "accepted_women_high = 0\n",
    "total_women_high = 0\n",
    "\n",
    "for tup, number in gender_income_accepted_list:\n",
    "    if tup[0] == 'F' and tup[1] == '1':\n",
    "        accepted_women_low = number\n",
    "    elif tup[0] == 'F' and tup[1] == '2':\n",
    "        accepted_women_mid = number\n",
    "    elif tup[0] == 'F' and tup[1] == '3':\n",
    "        accepted_women_high = number \n",
    "        \n",
    "    elif tup[0] == 'M' and tup[1] == '1':\n",
    "        accepted_men_low = number\n",
    "    elif tup[0] == 'M' and tup[1] == '2':\n",
    "        accepted_men_mid = number\n",
    "    elif tup[0] == 'M' and tup[1] == '3':\n",
    "        accepted_men_high = number\n",
    "        \n",
    "for tup, number in gender_income_total_list:\n",
    "    if tup[0] == 'F' and tup[1] == '1':\n",
    "        total_women_low = number\n",
    "    elif tup[0] == 'F' and tup[1] == '2':\n",
    "        total_women_mid = number\n",
    "    elif tup[0] == 'F' and tup[1] == '3':\n",
    "        total_women_high = number \n",
    "        \n",
    "    elif tup[0] == 'M' and tup[1] == '1':\n",
    "        total_men_low = number\n",
    "    elif tup[0] == 'M' and tup[1] == '2':\n",
    "        total_men_mid = number\n",
    "    elif tup[0] == 'M' and tup[1] == '3':\n",
    "        total_men_high = number\n",
    "        \n",
    "# Women and men approval rates in function of income \n",
    "women_AR_low = safe_div(accepted_women_low, total_women_low)\n",
    "women_AR_mid = safe_div(accepted_women_mid, total_women_mid)\n",
    "women_AR_high = safe_div(accepted_women_high, total_women_high)\n",
    "\n",
    "men_AR_low = safe_div(accepted_men_low, total_men_low)\n",
    "men_AR_mid = safe_div(accepted_men_mid, total_men_mid)\n",
    "men_AR_high = safe_div(accepted_men_high, total_men_high)\n",
    "\n",
    "# Conditional demographic parity\n",
    "CDP_low = abs(women_AR_low - men_AR_low)\n",
    "CDP_mid = abs(women_AR_mid - men_AR_mid)\n",
    "CDP_high = abs(women_AR_high - men_AR_high)\n",
    "\n",
    "CDP_list = [CDP_low, CDP_mid, CDP_high]\n",
    "\n",
    "# Size of economical groups without gender \n",
    "group_low = total_women_low + total_men_low\n",
    "group_mid = total_women_mid + total_men_mid\n",
    "group_high = total_women_high + total_men_high\n",
    "\n",
    "total_size = group_low + group_mid + group_high\n",
    "group_list = [group_low, group_mid, group_high]\n",
    "\n",
    "# Explained disparity \n",
    "ED = 0\n",
    "for cdp, size in zip(CDP_list, group_list):\n",
    "    ED += cdp * size / total_size\n",
    "\n",
    "# Unexplained disparity \n",
    "UD = DPD - ED "
   ]
  },
  {
   "cell_type": "code",
   "execution_count": null,
   "id": "9ad8624d",
   "metadata": {
    "collapsed": true,
    "jupyter": {
     "outputs_hidden": true
    }
   },
   "outputs": [],
   "source": []
  },
  {
   "cell_type": "code",
   "execution_count": null,
   "id": "f7a1ed4f-167e-4d21-9894-fa12a7f64145",
   "metadata": {},
   "outputs": [],
   "source": []
  }
 ],
 "metadata": {
  "kernelspec": {
   "display_name": "Python 3 (ipykernel)",
   "language": "python",
   "name": "python3"
  },
  "language_info": {
   "codemirror_mode": {
    "name": "ipython",
    "version": 3
   },
   "file_extension": ".py",
   "mimetype": "text/x-python",
   "name": "python",
   "nbconvert_exporter": "python",
   "pygments_lexer": "ipython3",
   "version": "3.12.6"
  }
 },
 "nbformat": 4,
 "nbformat_minor": 5
}
